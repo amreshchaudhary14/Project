{
 "cells": [
  {
   "cell_type": "markdown",
   "metadata": {},
   "source": [
    "****\n",
    "## JSON exercise\n",
    "\n",
    "Using data in file 'data/world_bank_projects.json' and the techniques demonstrated above,\n",
    "1. Find the 10 countries with most projects\n",
    "2. Find the top 10 major project themes (using column 'mjtheme_namecode')\n",
    "3. In 2. above you will notice that some entries have only the code and the name is missing. Create a dataframe with the missing names filled in."
   ]
  },
  {
   "cell_type": "code",
   "execution_count": 1,
   "metadata": {},
   "outputs": [],
   "source": [
    "## import pandas, json & normalize\n",
    "import pandas as pd\n",
    "import json\n",
    "from pandas.io.json import json_normalize"
   ]
  },
  {
   "cell_type": "markdown",
   "metadata": {},
   "source": [
    "****\n",
    "\n",
    "Find the 10 countries with most projects\n",
    "\n",
    "****"
   ]
  },
  {
   "cell_type": "code",
   "execution_count": 2,
   "metadata": {
    "scrolled": true
   },
   "outputs": [
    {
     "name": "stdout",
     "output_type": "stream",
     "text": [
      "<class 'pandas.core.frame.DataFrame'>\n",
      "RangeIndex: 500 entries, 0 to 499\n",
      "Data columns (total 50 columns):\n",
      "_id                         500 non-null object\n",
      "approvalfy                  500 non-null int64\n",
      "board_approval_month        500 non-null object\n",
      "boardapprovaldate           500 non-null object\n",
      "borrower                    485 non-null object\n",
      "closingdate                 370 non-null object\n",
      "country_namecode            500 non-null object\n",
      "countrycode                 500 non-null object\n",
      "countryname                 500 non-null object\n",
      "countryshortname            500 non-null object\n",
      "docty                       446 non-null object\n",
      "envassesmentcategorycode    430 non-null object\n",
      "grantamt                    500 non-null int64\n",
      "ibrdcommamt                 500 non-null int64\n",
      "id                          500 non-null object\n",
      "idacommamt                  500 non-null int64\n",
      "impagency                   472 non-null object\n",
      "lendinginstr                495 non-null object\n",
      "lendinginstrtype            495 non-null object\n",
      "lendprojectcost             500 non-null int64\n",
      "majorsector_percent         500 non-null object\n",
      "mjsector_namecode           500 non-null object\n",
      "mjtheme                     491 non-null object\n",
      "mjtheme_namecode            500 non-null object\n",
      "mjthemecode                 500 non-null object\n",
      "prodline                    500 non-null object\n",
      "prodlinetext                500 non-null object\n",
      "productlinetype             500 non-null object\n",
      "project_abstract            362 non-null object\n",
      "project_name                500 non-null object\n",
      "projectdocs                 446 non-null object\n",
      "projectfinancialtype        500 non-null object\n",
      "projectstatusdisplay        500 non-null object\n",
      "regionname                  500 non-null object\n",
      "sector                      500 non-null object\n",
      "sector1                     500 non-null object\n",
      "sector2                     380 non-null object\n",
      "sector3                     265 non-null object\n",
      "sector4                     174 non-null object\n",
      "sector_namecode             500 non-null object\n",
      "sectorcode                  500 non-null object\n",
      "source                      500 non-null object\n",
      "status                      500 non-null object\n",
      "supplementprojectflg        498 non-null object\n",
      "theme1                      500 non-null object\n",
      "theme_namecode              491 non-null object\n",
      "themecode                   491 non-null object\n",
      "totalamt                    500 non-null int64\n",
      "totalcommamt                500 non-null int64\n",
      "url                         500 non-null object\n",
      "dtypes: int64(7), object(43)\n",
      "memory usage: 195.4+ KB\n",
      "None\n"
     ]
    }
   ],
   "source": [
    "# Load JSON as pandas dataframe\n",
    "world_bank_proj_df = pd.read_json('data/world_bank_projects.json')\n",
    "\n",
    "#analyse the dataframe : world_bank_proj_df\n",
    "print(world_bank_proj_df.info())"
   ]
  },
  {
   "cell_type": "code",
   "execution_count": 3,
   "metadata": {},
   "outputs": [
    {
     "name": "stdout",
     "output_type": "stream",
     "text": [
      "                                     _id  approvalfy board_approval_month  \\\n",
      "0   {'$oid': '52b213b38594d8a2be17c780'}        1999             November   \n",
      "1   {'$oid': '52b213b38594d8a2be17c781'}        2015             November   \n",
      "2   {'$oid': '52b213b38594d8a2be17c782'}        2014             November   \n",
      "3   {'$oid': '52b213b38594d8a2be17c783'}        2014              October   \n",
      "4   {'$oid': '52b213b38594d8a2be17c784'}        2014              October   \n",
      "5   {'$oid': '52b213b38594d8a2be17c785'}        2014              October   \n",
      "6   {'$oid': '52b213b38594d8a2be17c786'}        2014              October   \n",
      "7   {'$oid': '52b213b38594d8a2be17c787'}        2014              October   \n",
      "8   {'$oid': '52b213b38594d8a2be17c788'}        2014              October   \n",
      "9   {'$oid': '52b213b38594d8a2be17c789'}        2014              October   \n",
      "10  {'$oid': '52b213b38594d8a2be17c78a'}        2014              October   \n",
      "11  {'$oid': '52b213b38594d8a2be17c78b'}        2014              October   \n",
      "12  {'$oid': '52b213b38594d8a2be17c78c'}        2014              October   \n",
      "13  {'$oid': '52b213b38594d8a2be17c78d'}        2014              October   \n",
      "14  {'$oid': '52b213b38594d8a2be17c78e'}        2014              October   \n",
      "15  {'$oid': '52b213b38594d8a2be17c78f'}        2014              October   \n",
      "16  {'$oid': '52b213b38594d8a2be17c790'}        2014              October   \n",
      "17  {'$oid': '52b213b38594d8a2be17c791'}        2014              October   \n",
      "18  {'$oid': '52b213b38594d8a2be17c792'}        2014              October   \n",
      "19  {'$oid': '52b213b38594d8a2be17c793'}        2014              October   \n",
      "\n",
      "       boardapprovaldate                                 borrower  \\\n",
      "0   2013-11-12T00:00:00Z  FEDERAL DEMOCRATIC REPUBLIC OF ETHIOPIA   \n",
      "1   2013-11-04T00:00:00Z                    GOVERNMENT OF TUNISIA   \n",
      "2   2013-11-01T00:00:00Z   MINISTRY OF FINANCE AND ECONOMIC DEVEL   \n",
      "3   2013-10-31T00:00:00Z   MIN. OF PLANNING AND INT'L COOPERATION   \n",
      "4   2013-10-31T00:00:00Z                      MINISTRY OF FINANCE   \n",
      "5   2013-10-31T00:00:00Z                        REPUBLIC OF KENYA   \n",
      "6   2013-10-29T00:00:00Z                      GOVERNMENT OF INDIA   \n",
      "7   2013-10-29T00:00:00Z               PEOPLE'S REPUBLIC OF CHINA   \n",
      "8   2013-10-29T00:00:00Z                  THE GOVERNMENT OF INDIA   \n",
      "9   2013-10-29T00:00:00Z                   THE KINGDOM OF MOROCCO   \n",
      "10  2013-10-25T00:00:00Z                GOVERNMENT OF SOUTH SUDAN   \n",
      "11  2013-10-25T00:00:00Z                                      NaN   \n",
      "12  2013-10-24T00:00:00Z                      GOVERNMENT OF GHANA   \n",
      "13  2013-10-22T00:00:00Z                GOVERNMENT OF TIMOR LESTE   \n",
      "14  2013-10-22T00:00:00Z                     GOVERNMENT OF JORDAN   \n",
      "15  2013-10-17T00:00:00Z                      MINISTRY OF FINANCE   \n",
      "16  2013-10-17T00:00:00Z                      MINISTRY OF FINANCE   \n",
      "17  2013-10-16T00:00:00Z     MINISTRY OF FINANCE AND BUDGET (MFB)   \n",
      "18  2013-10-16T00:00:00Z             ROYAL GOVERNMENT OF CAMBODIA   \n",
      "19  2013-10-10T00:00:00Z                      MINISTRY OF FINANCE   \n",
      "\n",
      "             closingdate                              country_namecode  \\\n",
      "0   2018-07-07T00:00:00Z  Federal Democratic Republic of Ethiopia!$!ET   \n",
      "1                    NaN                      Republic of Tunisia!$!TN   \n",
      "2                    NaN                                   Tuvalu!$!TV   \n",
      "3                    NaN                        Republic of Yemen!$!RY   \n",
      "4   2019-04-30T00:00:00Z                       Kingdom of Lesotho!$!LS   \n",
      "5                    NaN                        Republic of Kenya!$!KE   \n",
      "6   2019-06-30T00:00:00Z                        Republic of India!$!IN   \n",
      "7                    NaN               People's Republic of China!$!CN   \n",
      "8   2018-12-31T00:00:00Z                        Republic of India!$!IN   \n",
      "9   2014-12-31T00:00:00Z                       Kingdom of Morocco!$!MA   \n",
      "10                   NaN                  Republic of South Sudan!$!SS   \n",
      "11  2017-12-31T00:00:00Z                        Republic of India!$!IN   \n",
      "12  2019-06-30T00:00:00Z                        Republic of Ghana!$!GH   \n",
      "13                   NaN       Democratic Republic of Timor-Leste!$!TP   \n",
      "14                   NaN              Hashemite Kingdom of Jordan!$!JO   \n",
      "15  2019-04-30T00:00:00Z                                    Samoa!$!WS   \n",
      "16  2015-12-31T00:00:00Z                                    Samoa!$!WS   \n",
      "17                   NaN                   Republic of Madagascar!$!MG   \n",
      "18                   NaN                      Kingdom of Cambodia!$!KH   \n",
      "19                   NaN                       Kingdom of Morocco!$!MA   \n",
      "\n",
      "   countrycode                              countryname    countryshortname  \\\n",
      "0           ET  Federal Democratic Republic of Ethiopia            Ethiopia   \n",
      "1           TN                      Republic of Tunisia             Tunisia   \n",
      "2           TV                                   Tuvalu              Tuvalu   \n",
      "3           RY                        Republic of Yemen  Yemen, Republic of   \n",
      "4           LS                       Kingdom of Lesotho             Lesotho   \n",
      "5           KE                        Republic of Kenya               Kenya   \n",
      "6           IN                        Republic of India               India   \n",
      "7           CN               People's Republic of China               China   \n",
      "8           IN                        Republic of India               India   \n",
      "9           MA                       Kingdom of Morocco             Morocco   \n",
      "10          SS                  Republic of South Sudan         South Sudan   \n",
      "11          IN                        Republic of India               India   \n",
      "12          GH                        Republic of Ghana               Ghana   \n",
      "13          TP       Democratic Republic of Timor-Leste         Timor-Leste   \n",
      "14          JO              Hashemite Kingdom of Jordan              Jordan   \n",
      "15          WS                                    Samoa               Samoa   \n",
      "16          WS                                    Samoa               Samoa   \n",
      "17          MG                   Republic of Madagascar          Madagascar   \n",
      "18          KH                      Kingdom of Cambodia            Cambodia   \n",
      "19          MA                       Kingdom of Morocco             Morocco   \n",
      "\n",
      "                          ...                              sectorcode source  \\\n",
      "0                         ...                             ET,BS,ES,EP   IBRD   \n",
      "1                         ...                                   BZ,BS   IBRD   \n",
      "2                         ...                                      TI   IBRD   \n",
      "3                         ...                                      JB   IBRD   \n",
      "4                         ...                                FH,YW,YZ   IBRD   \n",
      "5                         ...                                      JB   IBRD   \n",
      "6                         ...                                      TI   IBRD   \n",
      "7                         ...                                      LR   IBRD   \n",
      "8                         ...                                      TI   IBRD   \n",
      "9                         ...                                BM,BC,BZ   IBRD   \n",
      "10                        ...                                AZ,JB,AH   IBRD   \n",
      "11                        ...                             JB,YC,WD,TI   IBRD   \n",
      "12                        ...                                      CZ   IBRD   \n",
      "13                        ...                                   BV,TI   IBRD   \n",
      "14                        ...                                      JB   IBRD   \n",
      "15                        ...                                      TI   IBRD   \n",
      "16                        ...                                AZ,AJ,AH   IBRD   \n",
      "17                        ...                                      EP   IBRD   \n",
      "18                        ...                          BK,JB,BH,BC,JA   IBRD   \n",
      "19                        ...                                BH,BC,BZ   IBRD   \n",
      "\n",
      "    status  supplementprojectflg  \\\n",
      "0   Active                     N   \n",
      "1   Active                     N   \n",
      "2   Active                     Y   \n",
      "3   Active                     N   \n",
      "4   Active                     N   \n",
      "5   Active                     Y   \n",
      "6   Active                     N   \n",
      "7   Active                     N   \n",
      "8   Active                     N   \n",
      "9   Active                     N   \n",
      "10  Active                     Y   \n",
      "11  Active                     N   \n",
      "12  Active                     N   \n",
      "13  Active                     Y   \n",
      "14  Active                     N   \n",
      "15  Active                     N   \n",
      "16  Active                     N   \n",
      "17  Active                     N   \n",
      "18  Active                     Y   \n",
      "19  Active                     N   \n",
      "\n",
      "                                               theme1  \\\n",
      "0       {'Percent': 100, 'Name': 'Education for all'}   \n",
      "1   {'Percent': 30, 'Name': 'Other economic manage...   \n",
      "2     {'Percent': 46, 'Name': 'Regional integration'}   \n",
      "3   {'Percent': 50, 'Name': 'Participation and civ...   \n",
      "4   {'Percent': 30, 'Name': 'Export development an...   \n",
      "5      {'Percent': 100, 'Name': 'Social safety nets'}   \n",
      "6   {'Percent': 20, 'Name': 'Administrative and ci...   \n",
      "7          {'Percent': 100, 'Name': 'Climate change'}   \n",
      "8   {'Percent': 87, 'Name': 'Other rural developme...   \n",
      "9   {'Percent': 33, 'Name': 'Other accountability/...   \n",
      "10  {'Percent': 100, 'Name': 'Global food crisis r...   \n",
      "11  {'Percent': 60, 'Name': 'Rural services and in...   \n",
      "12                         {'Percent': 0, 'Name': ''}   \n",
      "13    {'Percent': 20, 'Name': 'Regional integration'}   \n",
      "14      {'Percent': 50, 'Name': 'Social safety nets'}   \n",
      "15  {'Percent': 60, 'Name': 'Rural services and in...   \n",
      "16  {'Percent': 100, 'Name': 'Other rural developm...   \n",
      "17      {'Percent': 100, 'Name': 'Education for all'}   \n",
      "18            {'Percent': 17, 'Name': 'Child health'}   \n",
      "19  {'Percent': 40, 'Name': 'Public expenditure, f...   \n",
      "\n",
      "                                       theme_namecode       themecode  \\\n",
      "0       [{'code': '65', 'name': 'Education for all'}]              65   \n",
      "1   [{'code': '24', 'name': 'Other economic manage...           54,24   \n",
      "2   [{'code': '47', 'name': 'Regional integration'...     52,81,25,47   \n",
      "3   [{'code': '57', 'name': 'Participation and civ...           59,57   \n",
      "4   [{'code': '45', 'name': 'Export development an...           41,45   \n",
      "5      [{'code': '54', 'name': 'Social safety nets'}]              54   \n",
      "6   [{'code': '25', 'name': 'Administrative and ci...           39,25   \n",
      "7          [{'code': '81', 'name': 'Climate change'}]              81   \n",
      "8   [{'code': '79', 'name': 'Other rural developme...              79   \n",
      "9   [{'code': '29', 'name': 'Other accountability/...        27,30,29   \n",
      "10  [{'code': '91', 'name': 'Global food crisis re...              91   \n",
      "11  [{'code': '78', 'name': 'Rural services and in...     81,87,52,78   \n",
      "12                                                NaN             NaN   \n",
      "13  [{'code': '47', 'name': 'Regional integration'...        78,81,47   \n",
      "14  [{'code': '54', 'name': 'Social safety nets'},...        53,56,54   \n",
      "15  [{'code': '78', 'name': 'Rural services and in...        49,81,78   \n",
      "16  [{'code': '79', 'name': 'Other rural developme...              79   \n",
      "17      [{'code': '65', 'name': 'Education for all'}]              65   \n",
      "18  [{'code': '63', 'name': 'Child health'}, {'cod...  69,57,25,67,63   \n",
      "19  [{'code': '27', 'name': 'Public expenditure, f...        25,26,27   \n",
      "\n",
      "     totalamt totalcommamt                                                url  \n",
      "0   130000000    130000000  http://www.worldbank.org/projects/P129828/ethi...  \n",
      "1           0      4700000  http://www.worldbank.org/projects/P144674?lang=en  \n",
      "2     6060000      6060000  http://www.worldbank.org/projects/P145310?lang=en  \n",
      "3           0      1500000  http://www.worldbank.org/projects/P144665?lang=en  \n",
      "4    13100000     13100000  http://www.worldbank.org/projects/P144933/seco...  \n",
      "5    10000000     10000000  http://www.worldbank.org/projects/P146161?lang=en  \n",
      "6   500000000    500000000  http://www.worldbank.org/projects/P121185/firs...  \n",
      "7           0     27280000  http://www.worldbank.org/projects/P127033/chin...  \n",
      "8   160000000    160000000  http://www.worldbank.org/projects/P130164/raja...  \n",
      "9   200000000    200000000  http://www.worldbank.org/projects/P130903?lang=en  \n",
      "10          0      7530000  http://www.worldbank.org/projects/P145339?lang=en  \n",
      "11  250000000    250000000  http://www.worldbank.org/projects/P146653?lang=en  \n",
      "12   97000000     97000000  http://www.worldbank.org/projects/P144140/gh-e...  \n",
      "13   40000000     40000000  http://www.worldbank.org/projects/P130975/timo...  \n",
      "14          0      9500000  http://www.worldbank.org/projects/P144832?lang=en  \n",
      "15   20000000     20000000  http://www.worldbank.org/projects/P145545?lang=en  \n",
      "16    5000000      5000000  http://www.worldbank.org/projects/P145938?lang=en  \n",
      "17          0     85400000  http://www.worldbank.org/projects/P132616?lang=en  \n",
      "18          0     13450000  http://www.worldbank.org/projects/P146271?lang=en  \n",
      "19          0      4350000  http://www.worldbank.org/projects/P143979?lang=en  \n",
      "\n",
      "[20 rows x 50 columns]\n"
     ]
    }
   ],
   "source": [
    "## Examin the dataframe by printing first 20 entries\n",
    "print(world_bank_proj_df.head(20))"
   ]
  },
  {
   "cell_type": "code",
   "execution_count": 4,
   "metadata": {},
   "outputs": [
    {
     "data": {
      "text/plain": [
       "0"
      ]
     },
     "execution_count": 4,
     "metadata": {},
     "output_type": "execute_result"
    }
   ],
   "source": [
    "## ensure countryname column has no NaN values\n",
    "sum(pd.isnull(world_bank_proj_df['countryname']))"
   ]
  },
  {
   "cell_type": "code",
   "execution_count": 5,
   "metadata": {},
   "outputs": [],
   "source": [
    "## Count the frequency for each country ...(Each row represents a project hence counting the frequency for each country gives us an indication of the projects by country)\n",
    "country_count = world_bank_proj_df['countryname'].value_counts()"
   ]
  },
  {
   "cell_type": "code",
   "execution_count": 6,
   "metadata": {},
   "outputs": [
    {
     "name": "stdout",
     "output_type": "stream",
     "text": [
      "10 Countries with the most projects:\n",
      "Republic of Indonesia              19\n",
      "People's Republic of China         19\n",
      "Socialist Republic of Vietnam      17\n",
      "Republic of India                  16\n",
      "Republic of Yemen                  13\n",
      "Kingdom of Morocco                 12\n",
      "People's Republic of Bangladesh    12\n",
      "Nepal                              12\n",
      "Republic of Mozambique             11\n",
      "Africa                             11\n",
      "Name: countryname, dtype: int64\n"
     ]
    }
   ],
   "source": [
    "## print top 10 countries.. Bonus : \n",
    "print('10 Countries with the most projects:')\n",
    "print(country_count.head(10))"
   ]
  },
  {
   "cell_type": "markdown",
   "metadata": {},
   "source": [
    "****\n",
    "Find the top 10 major project themes (using column 'mjtheme_namecode')\n",
    "****"
   ]
  },
  {
   "cell_type": "code",
   "execution_count": 7,
   "metadata": {},
   "outputs": [],
   "source": [
    "# load json as string\n",
    "json_data = json.load((open('data/world_bank_projects.json')))"
   ]
  },
  {
   "cell_type": "code",
   "execution_count": 8,
   "metadata": {},
   "outputs": [],
   "source": [
    "# use normalization to create tables from nested element\n",
    "df2 = json_normalize(json_data, 'mjtheme_namecode')"
   ]
  },
  {
   "cell_type": "code",
   "execution_count": 9,
   "metadata": {},
   "outputs": [
    {
     "name": "stdout",
     "output_type": "stream",
     "text": [
      "<class 'pandas.core.frame.DataFrame'>\n",
      "RangeIndex: 1499 entries, 0 to 1498\n",
      "Data columns (total 2 columns):\n",
      "code    1499 non-null object\n",
      "name    1499 non-null object\n",
      "dtypes: object(2)\n",
      "memory usage: 23.5+ KB\n",
      "None\n"
     ]
    }
   ],
   "source": [
    "## verify the info of dataframe: df2\n",
    "print(df2.info())"
   ]
  },
  {
   "cell_type": "code",
   "execution_count": 10,
   "metadata": {},
   "outputs": [],
   "source": [
    "## Count the frequency of occurance for each prject theme\n",
    "mj_prj_freq = df2['name'].value_counts()"
   ]
  },
  {
   "cell_type": "code",
   "execution_count": 11,
   "metadata": {},
   "outputs": [
    {
     "name": "stdout",
     "output_type": "stream",
     "text": [
      "Environment and natural resources management    223\n",
      "Rural development                               202\n",
      "Human development                               197\n",
      "Public sector governance                        184\n",
      "Social protection and risk management           158\n",
      "Financial and private sector development        130\n",
      "                                                122\n",
      "Social dev/gender/inclusion                     119\n",
      "Trade and integration                            72\n",
      "Urban development                                47\n",
      "Name: name, dtype: int64\n"
     ]
    }
   ],
   "source": [
    "## Print top 10 major project themes\n",
    "print(mj_prj_freq.head(10))"
   ]
  },
  {
   "cell_type": "markdown",
   "metadata": {},
   "source": [
    "****\n",
    "\n",
    "In 2. above you will notice that some entries have only the code and the name is missing. Create a dataframe with the missing names filled in.\n",
    "\n",
    "****"
   ]
  },
  {
   "cell_type": "code",
   "execution_count": 12,
   "metadata": {},
   "outputs": [
    {
     "name": "stdout",
     "output_type": "stream",
     "text": [
      "     code                                          name\n",
      "0       8                             Human development\n",
      "1      11                                              \n",
      "2       1                           Economic management\n",
      "3       6         Social protection and risk management\n",
      "4       5                         Trade and integration\n",
      "5       2                      Public sector governance\n",
      "6      11  Environment and natural resources management\n",
      "7       6         Social protection and risk management\n",
      "8       7                   Social dev/gender/inclusion\n",
      "9       7                   Social dev/gender/inclusion\n",
      "10      5                         Trade and integration\n",
      "11      4      Financial and private sector development\n",
      "12      6         Social protection and risk management\n",
      "13      6                                              \n",
      "14      2                      Public sector governance\n",
      "15      4      Financial and private sector development\n",
      "16     11  Environment and natural resources management\n",
      "17      8                                              \n",
      "18     10                             Rural development\n",
      "19      7                                              \n",
      "20      2                      Public sector governance\n",
      "21      2                      Public sector governance\n",
      "22      2                      Public sector governance\n",
      "23     10                             Rural development\n",
      "24      2                                              \n",
      "25     10                             Rural development\n",
      "26      6         Social protection and risk management\n",
      "27      6         Social protection and risk management\n",
      "28     11  Environment and natural resources management\n",
      "29      4                                              \n",
      "...   ...                                           ...\n",
      "1469    8                             Human development\n",
      "1470    9                             Urban development\n",
      "1471    6         Social protection and risk management\n",
      "1472    6         Social protection and risk management\n",
      "1473    9                             Urban development\n",
      "1474    2                      Public sector governance\n",
      "1475    2                      Public sector governance\n",
      "1476   10                             Rural development\n",
      "1477   11                                              \n",
      "1478    8                             Human development\n",
      "1479    7                   Social dev/gender/inclusion\n",
      "1480   11  Environment and natural resources management\n",
      "1481    5                                              \n",
      "1482    6         Social protection and risk management\n",
      "1483    8                                              \n",
      "1484    4      Financial and private sector development\n",
      "1485    7                   Social dev/gender/inclusion\n",
      "1486    8                             Human development\n",
      "1487    5                         Trade and integration\n",
      "1488    2                      Public sector governance\n",
      "1489    8                             Human development\n",
      "1490   10                             Rural development\n",
      "1491    6                                              \n",
      "1492   10                             Rural development\n",
      "1493   10                             Rural development\n",
      "1494   10                             Rural development\n",
      "1495    9                             Urban development\n",
      "1496    8                             Human development\n",
      "1497    5                         Trade and integration\n",
      "1498    4      Financial and private sector development\n",
      "\n",
      "[1499 rows x 2 columns]\n"
     ]
    }
   ],
   "source": [
    "## Print df2\n",
    "print(df2)"
   ]
  },
  {
   "cell_type": "code",
   "execution_count": 25,
   "metadata": {},
   "outputs": [],
   "source": [
    "## Initialize an empty dictionary\n",
    "code_name_dict = {}\n",
    "\n",
    "## iterate over the dataframe using itertuples() and update code_name_dict with unique nonnull values\n",
    "for rows in df2.itertuples():\n",
    "    if rows[2] != '':\n",
    "        code_name_dict[rows[1]] = rows[2]"
   ]
  },
  {
   "cell_type": "code",
   "execution_count": 26,
   "metadata": {},
   "outputs": [
    {
     "name": "stdout",
     "output_type": "stream",
     "text": [
      "{'8': 'Human development', '1': 'Economic management', '6': 'Social protection and risk management', '5': 'Trade and integration', '2': 'Public sector governance', '11': 'Environment and natural resources management', '7': 'Social dev/gender/inclusion', '4': 'Financial and private sector development', '10': 'Rural development', '9': 'Urban development', '3': 'Rule of law'}\n"
     ]
    }
   ],
   "source": [
    "print(code_name_dict)"
   ]
  },
  {
   "cell_type": "code",
   "execution_count": 31,
   "metadata": {},
   "outputs": [],
   "source": [
    "## Update missing values in dataframe df2\n",
    "for rows in df2.itertuples():\n",
    "    if rows[2] == '':\n",
    "        df2.iat(rows[0],'name', code_name_dict[rows[1]])"
   ]
  },
  {
   "cell_type": "code",
   "execution_count": 32,
   "metadata": {},
   "outputs": [
    {
     "name": "stdout",
     "output_type": "stream",
     "text": [
      "     code                                          name\n",
      "0       8                             Human development\n",
      "1      11  Environment and natural resources management\n",
      "2       1                           Economic management\n",
      "3       6         Social protection and risk management\n",
      "4       5                         Trade and integration\n",
      "5       2                      Public sector governance\n",
      "6      11  Environment and natural resources management\n",
      "7       6         Social protection and risk management\n",
      "8       7                   Social dev/gender/inclusion\n",
      "9       7                   Social dev/gender/inclusion\n",
      "10      5                         Trade and integration\n",
      "11      4      Financial and private sector development\n",
      "12      6         Social protection and risk management\n",
      "13      6         Social protection and risk management\n",
      "14      2                      Public sector governance\n",
      "15      4      Financial and private sector development\n",
      "16     11  Environment and natural resources management\n",
      "17      8                             Human development\n",
      "18     10                             Rural development\n",
      "19      7                   Social dev/gender/inclusion\n",
      "20      2                      Public sector governance\n",
      "21      2                      Public sector governance\n",
      "22      2                      Public sector governance\n",
      "23     10                             Rural development\n",
      "24      2                      Public sector governance\n",
      "25     10                             Rural development\n",
      "26      6         Social protection and risk management\n",
      "27      6         Social protection and risk management\n",
      "28     11  Environment and natural resources management\n",
      "29      4      Financial and private sector development\n",
      "...   ...                                           ...\n",
      "1469    8                             Human development\n",
      "1470    9                             Urban development\n",
      "1471    6         Social protection and risk management\n",
      "1472    6         Social protection and risk management\n",
      "1473    9                             Urban development\n",
      "1474    2                      Public sector governance\n",
      "1475    2                      Public sector governance\n",
      "1476   10                             Rural development\n",
      "1477   11  Environment and natural resources management\n",
      "1478    8                             Human development\n",
      "1479    7                   Social dev/gender/inclusion\n",
      "1480   11  Environment and natural resources management\n",
      "1481    5                         Trade and integration\n",
      "1482    6         Social protection and risk management\n",
      "1483    8                             Human development\n",
      "1484    4      Financial and private sector development\n",
      "1485    7                   Social dev/gender/inclusion\n",
      "1486    8                             Human development\n",
      "1487    5                         Trade and integration\n",
      "1488    2                      Public sector governance\n",
      "1489    8                             Human development\n",
      "1490   10                             Rural development\n",
      "1491    6         Social protection and risk management\n",
      "1492   10                             Rural development\n",
      "1493   10                             Rural development\n",
      "1494   10                             Rural development\n",
      "1495    9                             Urban development\n",
      "1496    8                             Human development\n",
      "1497    5                         Trade and integration\n",
      "1498    4      Financial and private sector development\n",
      "\n",
      "[1499 rows x 2 columns]\n"
     ]
    }
   ],
   "source": [
    "##Print dataframe df2 with updated missing values\n",
    "print(df2)"
   ]
  },
  {
   "cell_type": "code",
   "execution_count": 35,
   "metadata": {},
   "outputs": [
    {
     "name": "stdout",
     "output_type": "stream",
     "text": [
      "Environment and natural resources management    250\n",
      "Rural development                               216\n",
      "Human development                               210\n",
      "Public sector governance                        199\n",
      "Social protection and risk management           168\n",
      "Financial and private sector development        146\n",
      "Social dev/gender/inclusion                     130\n",
      "Trade and integration                            77\n",
      "Urban development                                50\n",
      "Economic management                              38\n",
      "Name: name, dtype: int64\n"
     ]
    }
   ],
   "source": [
    "## Print top 10 major project themes after updating missing values in 'name' column\n",
    "print(df2['name'].value_counts().head(10))"
   ]
  },
  {
   "cell_type": "code",
   "execution_count": null,
   "metadata": {},
   "outputs": [],
   "source": []
  }
 ],
 "metadata": {
  "celltoolbar": "Raw Cell Format",
  "kernelspec": {
   "display_name": "Python 3",
   "language": "python",
   "name": "python3"
  },
  "language_info": {
   "codemirror_mode": {
    "name": "ipython",
    "version": 3
   },
   "file_extension": ".py",
   "mimetype": "text/x-python",
   "name": "python",
   "nbconvert_exporter": "python",
   "pygments_lexer": "ipython3",
   "version": "3.6.4"
  }
 },
 "nbformat": 4,
 "nbformat_minor": 1
}
