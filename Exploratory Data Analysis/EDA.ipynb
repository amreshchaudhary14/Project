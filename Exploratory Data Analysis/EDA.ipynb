{
 "cells": [
  {
   "cell_type": "markdown",
   "metadata": {},
   "source": [
    "# What is the True Normal Human Body Temperature? \n",
    "\n",
    "#### Background\n",
    "\n",
    "The mean normal body temperature was held to be 37$^{\\circ}$C or 98.6$^{\\circ}$F for more than 120 years since it was first conceptualized and reported by Carl Wunderlich in a famous 1868 book. But, is this value statistically correct?"
   ]
  },
  {
   "cell_type": "markdown",
   "metadata": {},
   "source": [
    "<h3>Exercises</h3>\n",
    "\n",
    "<p>In this exercise, you will analyze a dataset of human body temperatures and employ the concepts of hypothesis testing, confidence intervals, and statistical significance.</p>\n",
    "\n",
    "<p>Answer the following questions <b>in this notebook below and submit to your Github account</b>.</p> \n",
    "\n",
    "<ol>\n",
    "<li>  Is the distribution of body temperatures normal? \n",
    "    <ul>\n",
    "    <li> Although this is not a requirement for the Central Limit Theorem to hold (read the introduction on Wikipedia's page about the CLT carefully: https://en.wikipedia.org/wiki/Central_limit_theorem), it gives us some peace of mind that the population may also be normally distributed if we assume that this sample is representative of the population.\n",
    "    <li> Think about the way you're going to check for the normality of the distribution. Graphical methods are usually used first, but there are also other ways: https://en.wikipedia.org/wiki/Normality_test\n",
    "    </ul>\n",
    "<li>  Is the sample size large? Are the observations independent?\n",
    "    <ul>\n",
    "    <li> Remember that this is a condition for the Central Limit Theorem, and hence the statistical tests we are using, to apply.\n",
    "    </ul>\n",
    "<li>  Is the true population mean really 98.6 degrees F?\n",
    "    <ul>\n",
    "    <li> First, try a bootstrap hypothesis test.\n",
    "    <li> Now, let's try frequentist statistical testing. Would you use a one-sample or two-sample test? Why?\n",
    "    <li> In this situation, is it appropriate to use the $t$ or $z$ statistic? \n",
    "    <li> Now try using the other test. How is the result be different? Why?\n",
    "    </ul>\n",
    "<li>  Draw a small sample of size 10 from the data and repeat both frequentist tests. \n",
    "    <ul>\n",
    "    <li> Which one is the correct one to use? \n",
    "    <li> What do you notice? What does this tell you about the difference in application of the $t$ and $z$ statistic?\n",
    "    </ul>\n",
    "<li>  At what temperature should we consider someone's temperature to be \"abnormal\"?\n",
    "    <ul>\n",
    "    <li> As in the previous example, try calculating everything using the boostrap approach, as well as the frequentist approach.\n",
    "    <li> Start by computing the margin of error and confidence interval. When calculating the confidence interval, keep in mind that you should use the appropriate formula for one draw, and not N draws.\n",
    "    </ul>\n",
    "<li>  Is there a significant difference between males and females in normal temperature?\n",
    "    <ul>\n",
    "    <li> What testing approach did you use and why?\n",
    "    <li> Write a story with your conclusion in the context of the original problem.\n",
    "    </ul>\n",
    "</ol>\n",
    "\n",
    "You can include written notes in notebook cells using Markdown: \n",
    "   - In the control panel at the top, choose Cell > Cell Type > Markdown\n",
    "   - Markdown syntax: http://nestacms.com/docs/creating-content/markdown-cheat-sheet\n",
    "\n",
    "#### Resources\n",
    "\n",
    "+ Information and data sources: http://www.amstat.org/publications/jse/datasets/normtemp.txt, http://www.amstat.org/publications/jse/jse_data_archive.htm\n",
    "+ Markdown syntax: http://nestacms.com/docs/creating-content/markdown-cheat-sheet\n",
    "\n",
    "****"
   ]
  },
  {
   "cell_type": "code",
   "execution_count": 49,
   "metadata": {},
   "outputs": [],
   "source": [
    "import pandas as pd\n",
    "\n",
    "df = pd.read_csv('data/human_body_temperature.csv')"
   ]
  },
  {
   "cell_type": "code",
   "execution_count": 50,
   "metadata": {},
   "outputs": [
    {
     "data": {
      "text/html": [
       "<div>\n",
       "<style scoped>\n",
       "    .dataframe tbody tr th:only-of-type {\n",
       "        vertical-align: middle;\n",
       "    }\n",
       "\n",
       "    .dataframe tbody tr th {\n",
       "        vertical-align: top;\n",
       "    }\n",
       "\n",
       "    .dataframe thead th {\n",
       "        text-align: right;\n",
       "    }\n",
       "</style>\n",
       "<table border=\"1\" class=\"dataframe\">\n",
       "  <thead>\n",
       "    <tr style=\"text-align: right;\">\n",
       "      <th></th>\n",
       "      <th>temperature</th>\n",
       "      <th>gender</th>\n",
       "      <th>heart_rate</th>\n",
       "    </tr>\n",
       "  </thead>\n",
       "  <tbody>\n",
       "    <tr>\n",
       "      <th>0</th>\n",
       "      <td>99.3</td>\n",
       "      <td>F</td>\n",
       "      <td>68.0</td>\n",
       "    </tr>\n",
       "    <tr>\n",
       "      <th>1</th>\n",
       "      <td>98.4</td>\n",
       "      <td>F</td>\n",
       "      <td>81.0</td>\n",
       "    </tr>\n",
       "    <tr>\n",
       "      <th>2</th>\n",
       "      <td>97.8</td>\n",
       "      <td>M</td>\n",
       "      <td>73.0</td>\n",
       "    </tr>\n",
       "    <tr>\n",
       "      <th>3</th>\n",
       "      <td>99.2</td>\n",
       "      <td>F</td>\n",
       "      <td>66.0</td>\n",
       "    </tr>\n",
       "    <tr>\n",
       "      <th>4</th>\n",
       "      <td>98.0</td>\n",
       "      <td>F</td>\n",
       "      <td>73.0</td>\n",
       "    </tr>\n",
       "  </tbody>\n",
       "</table>\n",
       "</div>"
      ],
      "text/plain": [
       "   temperature gender  heart_rate\n",
       "0         99.3      F        68.0\n",
       "1         98.4      F        81.0\n",
       "2         97.8      M        73.0\n",
       "3         99.2      F        66.0\n",
       "4         98.0      F        73.0"
      ]
     },
     "execution_count": 50,
     "metadata": {},
     "output_type": "execute_result"
    }
   ],
   "source": [
    "df.head()"
   ]
  },
  {
   "cell_type": "code",
   "execution_count": 51,
   "metadata": {},
   "outputs": [],
   "source": [
    "# Your work here.\n",
    "import matplotlib.pyplot as plt\n",
    "import numpy as np\n",
    "from scipy import stats\n",
    "import seaborn as sns"
   ]
  },
  {
   "cell_type": "markdown",
   "metadata": {},
   "source": [
    "# 1. Is the distribution of body temperatures normal? "
   ]
  },
  {
   "cell_type": "code",
   "execution_count": 52,
   "metadata": {},
   "outputs": [
    {
     "name": "stdout",
     "output_type": "stream",
     "text": [
      "Mean: 98.249 degrees Fahrenheit.\n",
      "Standard deviation: 0.73 degrees Fahrenheit.\n"
     ]
    },
    {
     "data": {
      "image/png": "[encoded data removed]",
      "text/plain": [
       "<matplotlib.figure.Figure at 0x1ef1376a898>"
      ]
     },
     "metadata": {},
     "output_type": "display_data"
    }
   ],
   "source": [
    "# Mean Temperature\n",
    "mean_temp =np.mean(df.temperature)\n",
    "print(\"Mean: \"+str(np.round(mean_temp,3))+\" degrees Fahrenheit.\")\n",
    "\n",
    "# Standard Deviation \n",
    "std_temp=np.std(df.temperature)\n",
    "print(\"Standard deviation: \"+str(np.round(std_temp,3))+\" degrees Fahrenheit.\")\n",
    "\n",
    "x = np.linspace(mean_temp-4*std_temp,mean_temp+4*std_temp, 5000)\n",
    "y_pdf = stats.norm.pdf(x,mean_temp,std_temp)\n",
    "plt.hist(df.temperature, normed=True, bins=30)\n",
    "plt.plot(x,y_pdf)\n",
    "plt.xlabel('Temperature (F)')\n",
    "plt.ylabel('Count')\n",
    "plt.show()"
   ]
  },
  {
   "cell_type": "markdown",
   "metadata": {},
   "source": [
    "This distribution looks to appear normally distributed but with a little scew towards the right. To confirm this i will have to compare it with ECDF"
   ]
  },
  {
   "cell_type": "code",
   "execution_count": 53,
   "metadata": {},
   "outputs": [
    {
     "data": {
      "image/png": "[encoded data removed]",
      "text/plain": [
       "<matplotlib.figure.Figure at 0x1ef13770320>"
      ]
     },
     "metadata": {},
     "output_type": "display_data"
    }
   ],
   "source": [
    "# Create an ecdf function\n",
    "def ecdf(data):\n",
    "    n = len(data)\n",
    "    x = np.sort(data)\n",
    "    y = np.arange(1, n+1) / n\n",
    "    return x, y\n",
    "\n",
    "#Plotting ECDF for observed data\n",
    "x, y = ecdf(df.temperature)\n",
    "_ = plt.plot(x, y, marker = '.', linestyle = 'none', color = 'blue')\n",
    "\n",
    "m, s, n = np.mean(df.temperature), np.std(df.temperature), len(df.temperature)\n",
    "for i in range(100):\n",
    "    simulation = np.random.normal(m, s, n)\n",
    "    x, y = ecdf(simulation)\n",
    "    _ = plt.plot(x, y, marker = '.', alpha = 0.02, linestyle = 'none', color = 'green')\n",
    "_ = plt.xlabel('Temperature')\n",
    "_ = plt.ylabel('ECDF')"
   ]
  },
  {
   "cell_type": "markdown",
   "metadata": {},
   "source": [
    "After comparing EDCF comparisone, it looks like the data is normally distributed.. i.e normal distribution. This can be further confirmed by running normality test\n"
   ]
  },
  {
   "cell_type": "code",
   "execution_count": 54,
   "metadata": {},
   "outputs": [
    {
     "name": "stdout",
     "output_type": "stream",
     "text": [
      "p = 0.2587479863488254\n"
     ]
    }
   ],
   "source": [
    "#Assuming alpha = 0.05\n",
    "\n",
    "alpha = 0.05\n",
    "k2, p = stats.normaltest(df.temperature)\n",
    "print('p = ' + str(p))"
   ]
  },
  {
   "cell_type": "markdown",
   "metadata": {},
   "source": [
    "Since p < alpha.. In this case Null Hypothesis cannot be rejeced. Hence we can conclude that this is a aormal distribution"
   ]
  },
  {
   "cell_type": "markdown",
   "metadata": {},
   "source": [
    "# 2. Is the sample size large? Are the observations independent? "
   ]
  },
  {
   "cell_type": "markdown",
   "metadata": {},
   "source": [
    "df.describe()"
   ]
  },
  {
   "cell_type": "markdown",
   "metadata": {},
   "source": [
    "df.describe() indicated a total count of 130, which is higher than the prescribed sample size for Central Limit Theorem (CLT) i.e n>30, as well as 10% below human population, so it is safe to assume that the observations in this dataset are independent"
   ]
  },
  {
   "cell_type": "markdown",
   "metadata": {},
   "source": [
    "# 3. Is the true population mean really 98.6 degrees F? "
   ]
  },
  {
   "cell_type": "markdown",
   "metadata": {},
   "source": [
    "A. Bootstrap Hypothesis test"
   ]
  },
  {
   "cell_type": "markdown",
   "metadata": {},
   "source": [
    "Lets define our Hypothesis to test whether the population mean is really 98.6 degrees Fahrenheit, our null and alternative hypotheses can be written as such: $$H_0:\\mu=98.6°F$$$$H_1: \\mu\\neq98.6°F$$"
   ]
  },
  {
   "cell_type": "code",
   "execution_count": 62,
   "metadata": {},
   "outputs": [
    {
     "name": "stdout",
     "output_type": "stream",
     "text": [
      "p = 0.0\n"
     ]
    }
   ],
   "source": [
    "#Shifting data mean to match with population mean 98.6 degree F\n",
    "t_shifted = df.temperature - np.mean(df.temperature) + 98.6\n",
    "#Bootstrap the data 10000 times, and collect means.\n",
    "bs_mean = np.empty(10000)\n",
    "for i in range(10000):\n",
    "    sample = np.random.choice(t_shifted, size = len(t_shifted))\n",
    "    bs_mean[i] = np.mean(sample)\n",
    "p = np.sum(abs(bs_mean-98.6) >= abs(np.mean(df.temperature)-98.6)) / len(bs_mean)\n",
    "print('p = ' + str(p))"
   ]
  },
  {
   "cell_type": "markdown",
   "metadata": {},
   "source": [
    "p-value of bootstrap hypothesis test is 0.0 which is greater than alpha (p>alpha), indicates that the population mean of 98.6 °F is unlikely. Hence rejecting null Hypothesis"
   ]
  },
  {
   "cell_type": "markdown",
   "metadata": {},
   "source": [
    "B. Now, let's try frequentist statistical testing. Would you use a one-sample or two-sample test? Why?"
   ]
  },
  {
   "cell_type": "markdown",
   "metadata": {},
   "source": [
    "Since the sample size is greater than 30 (n > 30), normally distributed and we have only one sample mean, hence z-statistics should be used\n"
   ]
  },
  {
   "cell_type": "code",
   "execution_count": 60,
   "metadata": {},
   "outputs": [
    {
     "name": "stdout",
     "output_type": "stream",
     "text": [
      "z = -5.475925202078116\tp = 4.3523151658821886e-08\n"
     ]
    }
   ],
   "source": [
    "#Calculating z-statistics\n",
    "z = (np.mean(df.temperature) - 98.6) / np.sqrt(np.var(df.temperature) / len(df.temperature))\n",
    "\n",
    "# Since it is a 2 tail test, multiple z-value by 2\n",
    "p = stats.norm.cdf(z) * 2\n",
    "print('z = {}\\tp = {}'.format(z, p))"
   ]
  },
  {
   "cell_type": "markdown",
   "metadata": {},
   "source": [
    "C. Now try using the other test. How is the result be different? Why?"
   ]
  },
  {
   "cell_type": "code",
   "execution_count": 61,
   "metadata": {},
   "outputs": [
    {
     "name": "stdout",
     "output_type": "stream",
     "text": [
      "t = -5.4548232923645195\tp = 2.4106320415561276e-07\n"
     ]
    }
   ],
   "source": [
    "#Runing the t-statistics\n",
    "t, p = stats.ttest_1samp(df.temperature, 98.6)\n",
    "print('t = {}\\tp = {}'.format(t, p))"
   ]
  },
  {
   "cell_type": "markdown",
   "metadata": {},
   "source": [
    "# 4. Draw a small sample of size 10 from the data and repeat both frequentist tests."
   ]
  },
  {
   "cell_type": "code",
   "execution_count": 67,
   "metadata": {},
   "outputs": [
    {
     "name": "stdout",
     "output_type": "stream",
     "text": [
      "z = -1.238369855110275\tp = 0.21557895281405448\n",
      "t = -1.1748207983523529\tp = 0.27021207456302604\n"
     ]
    }
   ],
   "source": [
    "n = np.random.choice(df.temperature,10)\n",
    "\n",
    "# z-statistics\n",
    "z = (np.mean(n) - 98.6) / np.sqrt(np.var(n) / len(n))\n",
    "p = stats.norm.cdf(z) * 2\n",
    "print('z = {}\\tp = {}'.format(z, p))\n",
    "\n",
    "# t-statistics\n",
    "t, p = stats.ttest_1samp(n, 98.6)\n",
    "print('t = {}\\tp = {}'.format(t, p))"
   ]
  },
  {
   "cell_type": "markdown",
   "metadata": {},
   "source": [
    "A. Which one is the correct one to use?"
   ]
  },
  {
   "cell_type": "markdown",
   "metadata": {},
   "source": [
    "Since the sample size is small i.e 10, t- statistics will be the correct one to use"
   ]
  },
  {
   "cell_type": "markdown",
   "metadata": {},
   "source": [
    "# 5. At what temperature should we consider someone's temperature to be \"abnormal\"? "
   ]
  },
  {
   "cell_type": "code",
   "execution_count": 73,
   "metadata": {},
   "outputs": [
    {
     "name": "stdout",
     "output_type": "stream",
     "text": [
      "Using bootstrap approach,\n",
      "95% confidence interval is between 96.7 and 99.5 degrees.\n",
      "margin of error is 1.4 degrees.\n",
      "Using frequentist approach,\n",
      "95% confidence interval is between 96.8 and 99.7 degrees.\n",
      "margin of error is 1.4 degrees.\n"
     ]
    }
   ],
   "source": [
    "#Use the bootstrap approach first\n",
    "n = np.random.choice(df.temperature, 100000)\n",
    "i =  np.percentile(n, [2.5, 97.5])\n",
    "print('Using bootstrap approach,')\n",
    "print('95% confidence interval is between {} and {} degrees.'.format(i[0], i[1]))\n",
    "print('margin of error is {:.1f} degrees.'.format((i[1]-i[0])/2))\n",
    "\n",
    "#Use frequetist approach\n",
    "k = stats.norm.interval(0.95, np.mean(df.temperature), np.std(df.temperature))\n",
    "print('Using frequentist approach,')\n",
    "print('95% confidence interval is between {:.1f} and {:.1f} degrees.'.format(k[0], k[1]))\n",
    "print('margin of error is {:.1f} degrees.'.format((k[1]-k[0])/2))"
   ]
  },
  {
   "cell_type": "markdown",
   "metadata": {},
   "source": [
    "# 6. Is there a significant difference between males and females in normal temperature? "
   ]
  },
  {
   "cell_type": "code",
   "execution_count": 83,
   "metadata": {},
   "outputs": [
    {
     "name": "stdout",
     "output_type": "stream",
     "text": [
      "Our sample size for our sampling distribution of male body temperatures is 65.\n",
      "Our sample size for our sampling distribution of female body temperatures is 65.\n"
     ]
    },
    {
     "data": {
      "image/png": "[encoded data removed]",
      "text/plain": [
       "<matplotlib.figure.Figure at 0x1ef12d83128>"
      ]
     },
     "metadata": {},
     "output_type": "display_data"
    }
   ],
   "source": [
    "male=df[df.gender=='M'].temperature\n",
    "female=df[df.gender=='F'].temperature\n",
    "male_n=len(male)\n",
    "female_n=len(female)\n",
    "print(\"Our sample size for our sampling distribution of male body temperatures is \"+str(male_n)+\".\")\n",
    "print(\"Our sample size for our sampling distribution of female body temperatures is \"+str(female_n)+\".\")\n",
    "\n",
    "# Plotting a histograph for Male and Female data\n",
    "_ = plt.hist(male, color = 'blue', alpha = 0.5)\n",
    "_ = plt.hist(female, color = 'green', alpha = 0.5)\n",
    "_ = plt.xlabel('Temperature')\n",
    "_ = plt.ylabel('No. of people')\n",
    "_ = plt.legend(['Male', 'Female'])"
   ]
  },
  {
   "cell_type": "code",
   "execution_count": 86,
   "metadata": {},
   "outputs": [
    {
     "name": "stdout",
     "output_type": "stream",
     "text": [
      "t = -2.2854345381656103\tp = 0.02393188312239561\n",
      "Null hypothesis rejectd. Temperatures of male and female are probably different.\n"
     ]
    }
   ],
   "source": [
    "#Run two sample t test, because sample sizes have been split between male and female and hence the overall sample size is small \n",
    "t, p = stats.ttest_ind(male, female)\n",
    "print('t = {}\\tp = {}'.format(t, p))\n",
    "\n",
    "alpha = 0.05\n",
    "if p < alpha:\n",
    "    print('Null hypothesis rejectd. Temperatures of male and female are probably different.')\n",
    "else:\n",
    "    print('Null hypothesis cannot be rejected. Temperatures of male and female are probably the same.')"
   ]
  }
 ],
 "metadata": {
  "kernelspec": {
   "display_name": "Python 3",
   "language": "python",
   "name": "python3"
  },
  "language_info": {
   "codemirror_mode": {
    "name": "ipython",
    "version": 3
   },
   "file_extension": ".py",
   "mimetype": "text/x-python",
   "name": "python",
   "nbconvert_exporter": "python",
   "pygments_lexer": "ipython3",
   "version": "3.6.4"
  }
 },
 "nbformat": 4,
 "nbformat_minor": 1
}
